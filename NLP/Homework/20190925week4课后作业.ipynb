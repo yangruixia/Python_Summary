{
 "cells": [
  {
   "cell_type": "code",
   "execution_count": 1,
   "metadata": {},
   "outputs": [],
   "source": [
    "import geometry"
   ]
  },
  {
   "cell_type": "code",
   "execution_count": 2,
   "metadata": {
    "scrolled": true
   },
   "outputs": [
    {
     "name": "stdout",
     "output_type": "stream",
     "text": [
      "Please enter the radius of the circle:1\n",
      "The area of this circle is: 3.1415926536\n",
      "Please enter the length of the square:1\n",
      "Please enter the width of the square:1\n",
      "The area of this square is: 1.0000000000\n",
      "Please enter the length of the rectangle:1\n",
      "The area of this rectangle is: 1.0000000000\n",
      "Please enter the bottom edge length of the triangle:1\n",
      "Please enter the height od the trangle:1\n",
      "The area of this trangle is: 0.5000000000\n"
     ]
    }
   ],
   "source": [
    "from geometry.area import *\n",
    "geometry.area.circle.area_circle()\n",
    "geometry.area.square.area_square()\n",
    "geometry.area.rectangle.area_rectangle()\n",
    "geometry.area.triangles.area_triangles()"
   ]
  },
  {
   "cell_type": "code",
   "execution_count": 3,
   "metadata": {},
   "outputs": [
    {
     "name": "stdout",
     "output_type": "stream",
     "text": [
      "Please enter the side length of the cube: 1\n",
      "The surface area of this cube is: 6.0000000000\n",
      "Please enter the height of the cuboid: 1\n",
      "Please enter the length of the bottom edge of the cuboid: 1\n",
      "Please enter the width of the bottom edge of the cuboid: 1\n",
      "The surface area of this cuboid is: 6.0000000000\n",
      "Please enter the radius the sphere: 1\n",
      "The surface area of this sphere is: 12.5663706144\n",
      "Please enter the radius of the bottom edge of the cylinder: 1\n",
      "Please enter the height of the cylinder: 1\n",
      "The surface area of the cylinder is: 12.5663706144\n"
     ]
    }
   ],
   "source": [
    "from geometry.surface_area import * \n",
    "geometry.surface_area.cube.surface_area_cube()\n",
    "geometry.surface_area.cuboid.surface_area_cuboid()\n",
    "geometry.surface_area.sphere.surface_area_sphere()\n",
    "geometry.surface_area.cylinder.surface_area_cylinder()"
   ]
  },
  {
   "cell_type": "code",
   "execution_count": 4,
   "metadata": {},
   "outputs": [
    {
     "name": "stdout",
     "output_type": "stream",
     "text": [
      "Please enter the side length of the cube: 1\n",
      "The volume of this cube is: 1.0000000000\n",
      "Please enter the height of the cuboid: 1\n",
      "Please enter the length of the bottom edge of the cuboid: 1\n",
      "Please enter the width of the bottom edge of the cuboid: 1\n",
      "The volume of this cuboid is: 1.0000000000\n",
      "Please enter the radius the sphere: 1\n",
      "The volume of this sphere is: 4.1887902048\n",
      "Please enter the radius of the bottom edge of the cylinder: 1\n",
      "Please enter the height of the cylinder: 1\n",
      "The volume of the cylinder is: 3.1415926536\n"
     ]
    }
   ],
   "source": [
    "from geometry.volume import * \n",
    "geometry.volume.cube.volume_cube()\n",
    "geometry.volume.cuboid.volume_cuboid()\n",
    "geometry.volume.sphere.volume_sphere()\n",
    "geometry.volume.cylinder.volume_cylinder()"
   ]
  },
  {
   "cell_type": "code",
   "execution_count": null,
   "metadata": {},
   "outputs": [],
   "source": []
  }
 ],
 "metadata": {
  "kernelspec": {
   "display_name": "Python 3",
   "language": "python",
   "name": "python3"
  },
  "language_info": {
   "codemirror_mode": {
    "name": "ipython",
    "version": 3
   },
   "file_extension": ".py",
   "mimetype": "text/x-python",
   "name": "python",
   "nbconvert_exporter": "python",
   "pygments_lexer": "ipython3",
   "version": "3.6.5"
  }
 },
 "nbformat": 4,
 "nbformat_minor": 2
}
