{
 "cells": [
  {
   "cell_type": "code",
   "execution_count": 2,
   "metadata": {},
   "outputs": [
    {
     "name": "stdout",
     "output_type": "stream",
     "text": [
      "24995000\n",
      "16668333\n",
      "12495000\n",
      "9995000\n"
     ]
    }
   ],
   "source": [
    "num1 = 0\n",
    "num2 = 0\n",
    "num3 = 0\n",
    "num4 = 0\n",
    "\n",
    "for i in range(1,10000):\n",
    "    if i%2 == 0:\n",
    "        num1+=i\n",
    "    if i%3 == 0:\n",
    "        num2+=i\n",
    "    if i%4 == 0:\n",
    "        num3+=i\n",
    "    if i%5 == 0:\n",
    "        num4+=i\n",
    "\n",
    "print(num1,num2,num3,num4,sep='\\n')"
   ]
  },
  {
   "cell_type": "code",
   "execution_count": 8,
   "metadata": {},
   "outputs": [
    {
     "name": "stdout",
     "output_type": "stream",
     "text": [
      "\u0000 \u0001 \u0002 \u0003 \u0004 \u0005 \u0006 \u0007 \b \t \n",
      " \u000b",
      " \f",
      " \r",
      " \u000e \u000f \u0010 \u0011 \u0012 \u0013 \n",
      "\n",
      "\u0014 \u0015 \u0016 \u0017 \u0018 \u0019 \u001a \u001b \u001c",
      " \u001d",
      " \u001e",
      " \u001f   ! \" # $ % & ' \n",
      "\n",
      "( ) * + , - . / 0 1 2 3 4 5 6 7 8 9 : ; \n",
      "\n",
      "< = > ? @ A B C D E F G H I J K L M N O \n",
      "\n",
      "P Q R S T U V W X Y Z [ \\ ] ^ _ ` a b c \n",
      "\n",
      "d e f g h i j k l m n o p q r s t u v w \n",
      "\n",
      "x y z { | } ~  "
     ]
    }
   ],
   "source": [
    "lst = []\n",
    "for i in range(0,128):\n",
    "    lst.append(chr(i))\n",
    "for i in range(len(lst)):\n",
    "    print(lst[i],end=' ')\n",
    "    if (i+1)%20 == 0:\n",
    "        print('\\n')  "
   ]
  },
  {
   "cell_type": "code",
   "execution_count": null,
   "metadata": {},
   "outputs": [],
   "source": []
  }
 ],
 "metadata": {
  "kernelspec": {
   "display_name": "Python 3",
   "language": "python",
   "name": "python3"
  },
  "language_info": {
   "codemirror_mode": {
    "name": "ipython",
    "version": 3
   },
   "file_extension": ".py",
   "mimetype": "text/x-python",
   "name": "python",
   "nbconvert_exporter": "python",
   "pygments_lexer": "ipython3",
   "version": "3.6.5"
  }
 },
 "nbformat": 4,
 "nbformat_minor": 2
}
