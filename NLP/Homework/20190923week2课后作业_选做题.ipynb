{
 "cells": [
  {
   "cell_type": "code",
   "execution_count": 2,
   "metadata": {},
   "outputs": [],
   "source": [
    "import os"
   ]
  },
  {
   "cell_type": "code",
   "execution_count": 4,
   "metadata": {
    "scrolled": true
   },
   "outputs": [
    {
     "data": {
      "text/plain": [
       "['$RECYCLE.BIN',\n",
       " '.ipynb_checkpoints',\n",
       " '20190923week3课后作业.ipynb',\n",
       " 'Acrobat',\n",
       " 'Adobe_Acrobat',\n",
       " 'Anaconda',\n",
       " 'C',\n",
       " 'Config.Msi',\n",
       " 'Data_Structure',\n",
       " 'Dev-cpp',\n",
       " 'Dr',\n",
       " 'Eclipse',\n",
       " 'EXCEL',\n",
       " 'fonts',\n",
       " 'Git',\n",
       " 'handbrake',\n",
       " 'HTML+CSS+Javascript',\n",
       " 'Java',\n",
       " 'mindmanager',\n",
       " 'notepad++',\n",
       " 'onenote',\n",
       " 'Pycharm',\n",
       " 'python',\n",
       " 'python_anaconda',\n",
       " 'Quicker',\n",
       " 'SDL Passolo',\n",
       " 'setup',\n",
       " 'System Volume Information',\n",
       " 'Tableau',\n",
       " 'TeamViewer',\n",
       " 'tmp',\n",
       " 'VS',\n",
       " 'VS_download',\n",
       " 'workspace',\n",
       " 'Wox',\n",
       " 'Xmind',\n",
       " '新加卷 (D) - 快捷方式.lnk']"
      ]
     },
     "execution_count": 4,
     "metadata": {},
     "output_type": "execute_result"
    }
   ],
   "source": [
    "os.listdir()"
   ]
  },
  {
   "cell_type": "code",
   "execution_count": 6,
   "metadata": {},
   "outputs": [],
   "source": [
    "os.chdir('handbrake')"
   ]
  },
  {
   "cell_type": "code",
   "execution_count": 25,
   "metadata": {},
   "outputs": [],
   "source": [
    "s = os.listdir('./')"
   ]
  },
  {
   "cell_type": "code",
   "execution_count": 55,
   "metadata": {
    "scrolled": true
   },
   "outputs": [
    {
     "data": {
      "text/plain": [
       "['Caliburn.Micro.dll',\n",
       " 'Caliburn.Micro.Platform.Core.dll',\n",
       " 'Caliburn.Micro.Platform.dll',\n",
       " 'de',\n",
       " 'doc',\n",
       " 'GongSolutions.Wpf.DragDrop.dll',\n",
       " 'GongSolutions.Wpf.DragDrop.pdb',\n",
       " 'HandBrake.exe',\n",
       " 'HandBrake.exe.config',\n",
       " 'HandBrake.Interop.dll',\n",
       " 'HandBrake.Interop.dll.config',\n",
       " 'HandBrake.Interop.pdb',\n",
       " 'HandBrake.pdb',\n",
       " 'hb.dll',\n",
       " 'Newtonsoft.Json.dll',\n",
       " 'Ookii.Dialogs.Wpf.dll',\n",
       " 'portable.ini.template',\n",
       " 'System.Windows.Interactivity.dll',\n",
       " 'uninst.exe']"
      ]
     },
     "execution_count": 55,
     "metadata": {},
     "output_type": "execute_result"
    }
   ],
   "source": [
    "s"
   ]
  },
  {
   "cell_type": "code",
   "execution_count": 76,
   "metadata": {},
   "outputs": [
    {
     "name": "stdout",
     "output_type": "stream",
     "text": [
      "handbrake中原始文件和文件夹为： ['Caliburn.Micro.dll', 'Caliburn.Micro.Platform.Core.dll', 'Caliburn.Micro.Platform.dll', 'de', 'doc', 'GongSolutions.Wpf.DragDrop.dll', 'GongSolutions.Wpf.DragDrop.pdb', 'HandBrake.exe', 'HandBrake.exe.config', 'HandBrake.Interop.dll', 'HandBrake.Interop.dll.config', 'HandBrake.Interop.pdb', 'HandBrake.pdb', 'hb.dll', 'Newtonsoft.Json.dll', 'Ookii.Dialogs.Wpf.dll', 'portable.ini.template', 'System.Windows.Interactivity.dll', 'uninst.exe']\n",
      "handbrake中所有的文件为： ['.dll', '.dll', '.dll', '.dll', '.pdb', '.exe', '.config', '.dll', '.config', '.pdb', '.pdb', '.dll', '.dll', '.dll', '.template', '.dll', '.exe']\n",
      "统计带有特定后缀的文件夹键值对为： {'.template': 1, '.dll': 9, '.pdb': 3, '.config': 2, '.exe': 2}\n"
     ]
    }
   ],
   "source": [
    "k = []\n",
    "for i in s:\n",
    "    if '.'in i:\n",
    "        #print(type(i))\n",
    "        first = i.rfind('.')\n",
    "        idx = i[first:]\n",
    "        k.append(idx)\n",
    "st = set(k)\n",
    "v = []\n",
    "for i in range(len(st)):\n",
    "    v.append(0)\n",
    "\n",
    "e = {i:j for i,j in zip(st,v)}\n",
    "for i in k:\n",
    "    for j in e:\n",
    "        if j in i:\n",
    "            e[j]+=1\n",
    "print('handbrake中原始文件和文件夹为：',s)\n",
    "print('handbrake中所有的文件为：',k)\n",
    "print('统计带有特定后缀的文件夹键值对为：',e)"
   ]
  },
  {
   "cell_type": "code",
   "execution_count": 21,
   "metadata": {
    "scrolled": false
   },
   "outputs": [
    {
     "data": {
      "text/plain": [
       "4"
      ]
     },
     "execution_count": 21,
     "metadata": {},
     "output_type": "execute_result"
    }
   ],
   "source": []
  },
  {
   "cell_type": "code",
   "execution_count": null,
   "metadata": {},
   "outputs": [],
   "source": []
  }
 ],
 "metadata": {
  "kernelspec": {
   "display_name": "Python 3",
   "language": "python",
   "name": "python3"
  },
  "language_info": {
   "codemirror_mode": {
    "name": "ipython",
    "version": 3
   },
   "file_extension": ".py",
   "mimetype": "text/x-python",
   "name": "python",
   "nbconvert_exporter": "python",
   "pygments_lexer": "ipython3",
   "version": "3.6.5"
  }
 },
 "nbformat": 4,
 "nbformat_minor": 2
}
